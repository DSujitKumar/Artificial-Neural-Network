{
 "cells": [
  {
   "cell_type": "code",
   "execution_count": 1,
   "metadata": {},
   "outputs": [],
   "source": [
    "# Basic Libraries to be imported\n",
    "import numpy as np\n",
    "import matplotlib.pyplot as plt\n",
    "import neurolab as nl\n",
    "%matplotlib inline"
   ]
  },
  {
   "cell_type": "code",
   "execution_count": 4,
   "metadata": {},
   "outputs": [
    {
     "name": "stdout",
     "output_type": "stream",
     "text": [
      "[[1.  4.  0.  0. ]\n",
      " [1.1 3.9 0.  0. ]\n",
      " [1.2 4.1 0.  0. ]\n",
      " [0.9 3.7 0.  0. ]\n",
      " [7.  4.  0.  1. ]\n",
      " [7.2 4.1 0.  1. ]\n",
      " [6.9 3.9 0.  1. ]\n",
      " [7.1 4.2 0.  1. ]\n",
      " [4.  1.  1.  0. ]\n",
      " [4.1 0.9 1.  0. ]\n",
      " [4.2 1.1 1.  0. ]\n",
      " [3.9 0.8 1.  0. ]\n",
      " [4.  7.  1.  1. ]\n",
      " [4.2 7.2 1.  1. ]\n",
      " [3.9 7.1 1.  1. ]\n",
      " [4.1 6.8 1.  1. ]]\n"
     ]
    }
   ],
   "source": [
    "text=np.loadtxt('./datasets/data_set_text.txt')\n",
    "print(text)"
   ]
  },
  {
   "cell_type": "code",
   "execution_count": 5,
   "metadata": {},
   "outputs": [
    {
     "name": "stdout",
     "output_type": "stream",
     "text": [
      "[[1.  4. ]\n",
      " [1.1 3.9]\n",
      " [1.2 4.1]\n",
      " [0.9 3.7]\n",
      " [7.  4. ]\n",
      " [7.2 4.1]\n",
      " [6.9 3.9]\n",
      " [7.1 4.2]\n",
      " [4.  1. ]\n",
      " [4.1 0.9]\n",
      " [4.2 1.1]\n",
      " [3.9 0.8]\n",
      " [4.  7. ]\n",
      " [4.2 7.2]\n",
      " [3.9 7.1]\n",
      " [4.1 6.8]]\n",
      "[[0. 0.]\n",
      " [0. 0.]\n",
      " [0. 0.]\n",
      " [0. 0.]\n",
      " [0. 1.]\n",
      " [0. 1.]\n",
      " [0. 1.]\n",
      " [0. 1.]\n",
      " [1. 0.]\n",
      " [1. 0.]\n",
      " [1. 0.]\n",
      " [1. 0.]\n",
      " [1. 1.]\n",
      " [1. 1.]\n",
      " [1. 1.]\n",
      " [1. 1.]]\n"
     ]
    }
   ],
   "source": [
    "data=text[:,0:2]\n",
    "labels=text[:,2:]\n",
    "print(data)\n",
    "print(labels)"
   ]
  },
  {
   "cell_type": "code",
   "execution_count": 6,
   "metadata": {},
   "outputs": [
    {
     "data": {
      "text/plain": [
       "Text(0.5, 1.0, 'Input Data')"
      ]
     },
     "execution_count": 6,
     "metadata": {},
     "output_type": "execute_result"
    },
    {
     "data": {
      "image/png": "[encoded data removed]",
      "text/plain": [
       "<Figure size 432x288 with 1 Axes>"
      ]
     },
     "metadata": {
      "needs_background": "light"
     },
     "output_type": "display_data"
    }
   ],
   "source": [
    "plt.scatter(data[:,0],data[:,1])\n",
    "plt.xlabel('Dimention 1')\n",
    "plt.ylabel('Dimention 2')\n",
    "plt.title('Input Data')"
   ]
  },
  {
   "cell_type": "code",
   "execution_count": 14,
   "metadata": {},
   "outputs": [],
   "source": [
    "dim1_min,dim1_max=data[:,0].min(),data[:,0].max()\n",
    "dim2_min,dim2_max=data[:,1].min(),data[:,1].max()\n",
    "num_output=labels.shape[1]\n",
    "\n",
    "dim1=[dim1_min,dim1_max]\n",
    "dim2=[dim2_min,dim2_max]\n",
    "snn=nl.net.newp([dim1,dim2],num_output)"
   ]
  },
  {
   "cell_type": "code",
   "execution_count": 10,
   "metadata": {},
   "outputs": [
    {
     "name": "stdout",
     "output_type": "stream",
     "text": [
      "Epoch: 20; Error: 4.0;\n",
      "Epoch: 40; Error: 4.0;\n",
      "Epoch: 60; Error: 4.0;\n",
      "Epoch: 80; Error: 4.0;\n",
      "Epoch: 100; Error: 4.0;\n",
      "The maximum number of train epochs is reached\n"
     ]
    }
   ],
   "source": [
    "error_progress=snn.train(data,labels,epochs=100,show=20,lr=0.03)"
   ]
  },
  {
   "cell_type": "code",
   "execution_count": 11,
   "metadata": {},
   "outputs": [
    {
     "data": {
      "image/png": "[encoded data removed]",
      "text/plain": [
       "<Figure size 432x288 with 1 Axes>"
      ]
     },
     "metadata": {
      "needs_background": "light"
     },
     "output_type": "display_data"
    }
   ],
   "source": [
    "plt.plot(error_progress)\n",
    "plt.xlabel('Num Epochs')\n",
    "plt.ylabel('Training Error')\n",
    "plt.title(\"Error Rate\")\n",
    "plt.grid(True)"
   ]
  },
  {
   "cell_type": "code",
   "execution_count": 12,
   "metadata": {},
   "outputs": [
    {
     "name": "stdout",
     "output_type": "stream",
     "text": [
      "Testing Data:\n",
      "\n",
      "[0.3, 4.2] ==> [0. 0.]\n",
      "[4.3, 0.5] ==> [1. 0.]\n",
      "[4.6, 8] ==> [1. 1.]\n"
     ]
    }
   ],
   "source": [
    "print(\"Testing Data:\\n\")\n",
    "testing_data=[[0.3,4.2],[4.3,0.5],[4.6,8]]\n",
    "for i in testing_data:\n",
    "    print(i,'==>',snn.sim([i])[0])"
   ]
  },
  {
   "cell_type": "code",
   "execution_count": null,
   "metadata": {},
   "outputs": [],
   "source": []
  },
  {
   "cell_type": "code",
   "execution_count": null,
   "metadata": {},
   "outputs": [],
   "source": []
  },
  {
   "cell_type": "code",
   "execution_count": null,
   "metadata": {},
   "outputs": [],
   "source": []
  },
  {
   "cell_type": "code",
   "execution_count": null,
   "metadata": {},
   "outputs": [],
   "source": []
  },
  {
   "cell_type": "code",
   "execution_count": null,
   "metadata": {},
   "outputs": [],
   "source": []
  },
  {
   "cell_type": "code",
   "execution_count": null,
   "metadata": {},
   "outputs": [],
   "source": []
  },
  {
   "cell_type": "code",
   "execution_count": null,
   "metadata": {},
   "outputs": [],
   "source": []
  },
  {
   "cell_type": "code",
   "execution_count": null,
   "metadata": {},
   "outputs": [],
   "source": []
  }
 ],
 "metadata": {
  "kernelspec": {
   "display_name": "Python 3",
   "language": "python",
   "name": "python3"
  },
  "language_info": {
   "codemirror_mode": {
    "name": "ipython",
    "version": 3
   },
   "file_extension": ".py",
   "mimetype": "text/x-python",
   "name": "python",
   "nbconvert_exporter": "python",
   "pygments_lexer": "ipython3",
   "version": "3.7.3"
  }
 },
 "nbformat": 4,
 "nbformat_minor": 2
}
